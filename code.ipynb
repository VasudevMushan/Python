{
 "cells": [
  {
   "cell_type": "code",
   "execution_count": 105,
   "id": "7feb2706-0056-4ac1-88af-9bf361a1f821",
   "metadata": {},
   "outputs": [],
   "source": [
    "#1\n",
    "import pandas as pd\n",
    "\n",
    "# Creating Employee DataFrame\n",
    "employee_data = {\n",
    "    'ID': ['A001', 'A002', 'A003', 'A004', 'A005'],\n",
    "    'Name': ['John Alter', 'Alice Luxumberg', 'Tom Sabestine', 'Nina Adgra', 'Amy Johny'],\n",
    "    'Gender': ['M', 'F', 'M', 'F', 'F'],\n",
    "    'City': ['Paris', 'London', 'Berlin', 'Newyork', 'Madrid'],\n",
    "    'Age': [25, 27, 29, 31, 30]\n",
    "}\n",
    "employee_df = pd.DataFrame(employee_data)\n",
    "\n",
    "# Creating Seniority Level DataFrame\n",
    "seniority_data = {\n",
    "    'ID': ['A001', 'A002', 'A003', 'A004', 'A005'],\n",
    "    'Designation Level': [2, 2, 3, 2, 3]\n",
    "}\n",
    "seniority_df = pd.DataFrame(seniority_data)\n",
    "\n",
    "# Creating Project DataFrame\n",
    "project_data = {\n",
    "    'ID': ['A001', 'A002', 'A003', 'A004', 'A005', 'A002', 'A005', 'A003', 'A001', 'A003', 'A001', 'A004', 'A004', 'A005'],\n",
    "    'Project': ['Project 1', 'Project 2', 'Project 3', 'Project 4', 'Project 5', 'Project 6', 'Project 7', 'Project 8', 'Project 9', 'Project 10', 'Project 11', 'Project 12', 'Project 13', 'Project 14'],\n",
    "    'Cost': [1002000, 2000000, 4500000, 5500000, None, 680000, 400000, 350000, None, 300000, 2000000, 1000000, 3000000, 200000],\n",
    "    'Status': ['Finished', 'Ongoing', 'Finished', 'Ongoing', 'Finished', 'Failed', 'Finished', 'Failed', 'Ongoing', 'Finished', 'Failed', 'Ongoing', 'Finished', 'Finished']\n",
    "}\n",
    "project_df = pd.DataFrame(project_data)\n",
    "\n",
    "# Saving DataFrames to CSV files\n",
    "employee_df.to_csv('Employee.csv', index=False)\n",
    "seniority_df.to_csv('Seniority.csv', index=False)\n",
    "project_df.to_csv('Project.csv', index=False)\n"
   ]
  },
  {
   "cell_type": "code",
   "execution_count": 107,
   "id": "50abc752-ba0e-4d10-82b6-01a452d045f2",
   "metadata": {},
   "outputs": [],
   "source": [
    "#2\n",
    "import numpy as np\n",
    "\n",
    "# Load Project DataFrame from CSV\n",
    "project_df = pd.read_csv('Project.csv')\n",
    "\n",
    "# Compute running average for missing cost values\n",
    "running_sum = 0\n",
    "count = 0\n",
    "for i in range(len(project_df)):\n",
    "    if np.isnan(project_df.loc[i, 'Cost']):\n",
    "        project_df.loc[i, 'Cost'] = running_sum / count\n",
    "    else:\n",
    "        running_sum += project_df.loc[i, 'Cost']\n",
    "        count += 1\n",
    "\n",
    "# Save updated Project DataFrame\n",
    "project_df.to_csv('Project.csv', index=False)\n"
   ]
  },
  {
   "cell_type": "code",
   "execution_count": 109,
   "id": "6f05e80d-3906-4c61-b7a1-6bb47724b993",
   "metadata": {},
   "outputs": [
    {
     "name": "stdout",
     "output_type": "stream",
     "text": [
      "     ID Gender     City  Age First Name  Last Name\n",
      "0  A001      M    Paris   25       John      Alter\n",
      "1  A002      F   London   27      Alice  Luxumberg\n",
      "2  A003      M   Berlin   29        Tom  Sabestine\n",
      "3  A004      F  Newyork   31       Nina      Adgra\n",
      "4  A005      F   Madrid   30        Amy      Johny\n"
     ]
    }
   ],
   "source": [
    "#3\n",
    "import pandas as pd\n",
    "\n",
    "# Load Employee DataFrame from CSV\n",
    "employee_df = pd.read_csv('Employee.csv')\n",
    "\n",
    "# Ensure the Name column contains strings and handle missing values\n",
    "employee_df['Name'] = employee_df['Name'].fillna('').astype(str)\n",
    "\n",
    "# Split the Name column into First Name and Last Name manually\n",
    "# Split the 'Name' into two parts\n",
    "employee_df['First Name'] = employee_df['Name'].apply(lambda x: x.split(' ', 1)[0])\n",
    "employee_df['Last Name'] = employee_df['Name'].apply(lambda x: x.split(' ', 1)[1] if len(x.split(' ', 1)) > 1 else '')\n",
    "\n",
    "# Drop the old Name column\n",
    "employee_df.drop('Name', axis=1, inplace=True)\n",
    "\n",
    "# Save the updated Employee DataFrame\n",
    "employee_df.to_csv('Employee.csv', index=False)\n",
    "\n",
    "# Print to verify the result\n",
    "print(employee_df.head())\n"
   ]
  },
  {
   "cell_type": "code",
   "execution_count": 111,
   "id": "9b4c4b9f-16a6-4703-b0cf-7006e36913ee",
   "metadata": {},
   "outputs": [],
   "source": [
    "#4\n",
    "# Merge Employee and Seniority DataFrames\n",
    "final_df = pd.merge(employee_df, seniority_df, on='ID')\n",
    "\n",
    "# Merge with Project DataFrame\n",
    "final_df = pd.merge(final_df, project_df, on='ID')\n",
    "\n",
    "# Save the final DataFrame\n",
    "final_df.to_csv('Final.csv', index=False)\n"
   ]
  },
  {
   "cell_type": "code",
   "execution_count": 113,
   "id": "49bf0877-6bfc-4aa1-a540-cde052427ff2",
   "metadata": {},
   "outputs": [],
   "source": [
    "#5\n",
    "# Load Final DataFrame from CSV\n",
    "final_df = pd.read_csv('Final.csv')\n",
    "\n",
    "# Add Bonus column\n",
    "final_df['Bonus'] = final_df.apply(lambda row: row['Cost'] * 0.05 if row['Status'] == 'Finished' else 0, axis=1)\n",
    "\n",
    "# Save updated Final DataFrame\n",
    "final_df.to_csv('Final.csv', index=False)\n"
   ]
  },
  {
   "cell_type": "code",
   "execution_count": 115,
   "id": "d9ee6a01-a0fb-4c4a-905a-75a9fe02f55d",
   "metadata": {},
   "outputs": [],
   "source": [
    "#6\n",
    "# Demote designation level\n",
    "final_df.loc[final_df['Status'] == 'Failed', 'Designation Level'] += 1\n",
    "\n",
    "# Remove employees with designation level above 4\n",
    "final_df = final_df[final_df['Designation Level'] <= 4]\n",
    "\n",
    "# Save updated Final DataFrame\n",
    "final_df.to_csv('Final.csv', index=False)\n"
   ]
  },
  {
   "cell_type": "code",
   "execution_count": 117,
   "id": "f60b1573-a933-4714-8bc3-7b72c6a6bf1f",
   "metadata": {},
   "outputs": [
    {
     "name": "stdout",
     "output_type": "stream",
     "text": [
      "     ID    City  Age  First Name  Last Name  Designation Level     Project  \\\n",
      "0  A001   Paris   25    Mr. John      Alter                  2   Project 1   \n",
      "1  A001   Paris   25    Mr. John      Alter                  2   Project 9   \n",
      "2  A001   Paris   25    Mr. John      Alter                  3  Project 11   \n",
      "3  A002  London   27  Mrs. Alice  Luxumberg                  2   Project 2   \n",
      "4  A002  London   27  Mrs. Alice  Luxumberg                  3   Project 6   \n",
      "\n",
      "           Cost    Status    Bonus  \n",
      "0  1.002000e+06  Finished  50100.0  \n",
      "1  2.061714e+06   Ongoing      0.0  \n",
      "2  2.000000e+06    Failed      0.0  \n",
      "3  2.000000e+06   Ongoing      0.0  \n",
      "4  6.800000e+05    Failed      0.0  \n"
     ]
    }
   ],
   "source": [
    "#7\n",
    "if 'Gender' in final_df.columns:\n",
    "    # Add Mr./Mrs. prefix based on Gender\n",
    "    final_df['First Name'] = final_df.apply(lambda row: 'Mr. ' + row['First Name'] if row['Gender'] == 'M' else 'Mrs. ' + row['First Name'], axis=1)\n",
    "\n",
    "    # Drop the Gender column\n",
    "    final_df.drop('Gender', axis=1, inplace=True)\n",
    "\n",
    "    # Save the updated Final DataFrame\n",
    "    final_df.to_csv('Final.csv', index=False)\n",
    "\n",
    "    # Check the updated DataFrame\n",
    "    print(final_df.head())\n",
    "else:\n",
    "    print(\"Column 'Gender' does not exist in the DataFrame.\")\n"
   ]
  },
  {
   "cell_type": "code",
   "execution_count": 119,
   "id": "e478a7cf-b71c-4ae6-a139-ca66842f017c",
   "metadata": {},
   "outputs": [
    {
     "name": "stdout",
     "output_type": "stream",
     "text": [
      "     ID    City  Age  First Name  Last Name  Designation Level     Project  \\\n",
      "0  A001   Paris   25    Mr. John      Alter                  2   Project 1   \n",
      "1  A001   Paris   25    Mr. John      Alter                  2   Project 9   \n",
      "2  A001   Paris   25    Mr. John      Alter                  3  Project 11   \n",
      "3  A002  London   27  Mrs. Alice  Luxumberg                  2   Project 2   \n",
      "4  A002  London   27  Mrs. Alice  Luxumberg                  3   Project 6   \n",
      "\n",
      "           Cost    Status    Bonus  \n",
      "0  1.002000e+06  Finished  50100.0  \n",
      "1  2.061714e+06   Ongoing      0.0  \n",
      "2  2.000000e+06    Failed      0.0  \n",
      "3  2.000000e+06   Ongoing      0.0  \n",
      "4  6.800000e+05    Failed      0.0  \n"
     ]
    }
   ],
   "source": [
    "#8\n",
    "# Promote designation level\n",
    "final_df.loc[(final_df['Age'] > 29) & (final_df['Designation Level'] > 1), 'Designation Level'] -= 1\n",
    "\n",
    "# Save updated Final DataFrame\n",
    "final_df.to_csv('Final.csv', index=False)\n",
    "print(final_df.head())\n"
   ]
  },
  {
   "cell_type": "code",
   "execution_count": 123,
   "id": "e5240b3c-5b3d-4e28-9c7e-806df821b179",
   "metadata": {},
   "outputs": [],
   "source": [
    "#9\n",
    "# Calculate total project cost\n",
    "total_cost_df = final_df.groupby(['ID', 'First Name'])['Cost'].sum().reset_index()\n",
    "total_cost_df.rename(columns={'Cost': 'Total Cost'}, inplace=True)\n",
    "\n",
    "# Save the new DataFrame\n",
    "total_cost_df.to_csv('TotalProjCost.csv', index=False)\n"
   ]
  },
  {
   "cell_type": "code",
   "execution_count": 21,
   "id": "1df310df-74bc-498b-a5ac-916365d2924b",
   "metadata": {},
   "outputs": [
    {
     "name": "stdout",
     "output_type": "stream",
     "text": [
      "      ID     City  Age  Designation Level     Project       Cost    Status  \\\n",
      "3   A002   London   27                  2   Project 2  2000000.0   Ongoing   \n",
      "4   A002   London   27                  3   Project 6   680000.0    Failed   \n",
      "8   A004  Newyork   31                  1   Project 4  5500000.0   Ongoing   \n",
      "9   A004  Newyork   31                  1  Project 12  1000000.0   Ongoing   \n",
      "10  A004  Newyork   31                  1  Project 13  3000000.0  Finished   \n",
      "\n",
      "       Bonus  First Name  Last Name  \n",
      "3        0.0  Mrs. Alice  Luxumberg  \n",
      "4        0.0  Mrs. Alice  Luxumberg  \n",
      "8        0.0   Mrs. Nina      Adgra  \n",
      "9        0.0   Mrs. Nina      Adgra  \n",
      "10  150000.0   Mrs. Nina      Adgra  \n"
     ]
    }
   ],
   "source": [
    "#10\n",
    "# Filter employees based on city name containing 'o'\n",
    "filtered_df = final_df[final_df['City'].str.contains('o', case=False)]\n",
    "\n",
    "# Print the filtered DataFrame\n",
    "print(filtered_df)\n"
   ]
  },
  {
   "cell_type": "code",
   "execution_count": null,
   "id": "b5a37b96-b1bb-4b82-aac3-1ab221c43271",
   "metadata": {},
   "outputs": [],
   "source": []
  }
 ],
 "metadata": {
  "kernelspec": {
   "display_name": "Python 3 (ipykernel)",
   "language": "python",
   "name": "python3"
  },
  "language_info": {
   "codemirror_mode": {
    "name": "ipython",
    "version": 3
   },
   "file_extension": ".py",
   "mimetype": "text/x-python",
   "name": "python",
   "nbconvert_exporter": "python",
   "pygments_lexer": "ipython3",
   "version": "3.12.4"
  }
 },
 "nbformat": 4,
 "nbformat_minor": 5
}
